{
 "cells": [
  {
   "cell_type": "code",
   "execution_count": 1,
   "metadata": {},
   "outputs": [],
   "source": [
    "import torch\n",
    "from profiler import profileit\n",
    "import argparse\n",
    "import kmeans\n",
    "from matplotlib import pyplot as plt"
   ]
  },
  {
   "cell_type": "code",
   "execution_count": 2,
   "metadata": {},
   "outputs": [
    {
     "ename": "NotImplementedError",
     "evalue": "<function euclidean_distance at 0x7f9d6fb3b400> method not implemented ",
     "output_type": "error",
     "traceback": [
      "\u001b[0;31m---------------------------------------------------------------------------\u001b[0m",
      "\u001b[0;31mNotImplementedError\u001b[0m                       Traceback (most recent call last)",
      "Cell \u001b[0;32mIn [2], line 5\u001b[0m\n\u001b[1;32m      1\u001b[0m \u001b[38;5;28;01mfrom\u001b[39;00m \u001b[38;5;21;01mdistance\u001b[39;00m \u001b[38;5;28;01mimport\u001b[39;00m euclidean_distance\n\u001b[1;32m      4\u001b[0m dataset \u001b[38;5;241m=\u001b[39m torch\u001b[38;5;241m.\u001b[39mcat([kmeans\u001b[38;5;241m.\u001b[39mget_dataset(\u001b[38;5;241m100\u001b[39m, \u001b[38;5;241m2\u001b[39m) \u001b[38;5;241m+\u001b[39m \u001b[38;5;241m3\u001b[39m, kmeans\u001b[38;5;241m.\u001b[39mget_dataset(\u001b[38;5;241m100\u001b[39m, \u001b[38;5;241m2\u001b[39m) \u001b[38;5;241m+\u001b[39m \u001b[38;5;241m1.5\u001b[39m, kmeans\u001b[38;5;241m.\u001b[39mget_dataset(\u001b[38;5;241m100\u001b[39m, \u001b[38;5;241m2\u001b[39m)])\n\u001b[0;32m----> 5\u001b[0m variance, centroids, assignments \u001b[38;5;241m=\u001b[39m kmeans\u001b[38;5;241m.\u001b[39mcompute_kmeans(dataset, num_centroids\u001b[38;5;241m=\u001b[39m\u001b[38;5;241m3\u001b[39m, num_iterations\u001b[38;5;241m=\u001b[39m\u001b[38;5;241m10\u001b[39m, distance_type\u001b[38;5;241m=\u001b[39meuclidean_distance)\n",
      "File \u001b[0;32m~/Desktop/IndexOne/src/kmeans.py:45\u001b[0m, in \u001b[0;36mcompute_kmeans\u001b[0;34m(dataset, num_centroids, num_iterations, distance_type)\u001b[0m\n\u001b[1;32m     43\u001b[0m variance \u001b[39m=\u001b[39m \u001b[39mfloat\u001b[39m(\u001b[39m'\u001b[39m\u001b[39minf\u001b[39m\u001b[39m'\u001b[39m)\n\u001b[1;32m     44\u001b[0m \u001b[39mwhile\u001b[39;00m \u001b[39mTrue\u001b[39;00m:\n\u001b[0;32m---> 45\u001b[0m     distances \u001b[39m=\u001b[39m compute_distance(centroids, dataset, \u001b[39mtype\u001b[39;49m\u001b[39m=\u001b[39;49mdistance_type)\n\u001b[1;32m     46\u001b[0m     assignments \u001b[39m=\u001b[39m torch\u001b[39m.\u001b[39margmin(distances, dim\u001b[39m=\u001b[39m\u001b[39m0\u001b[39m)\n\u001b[1;32m     47\u001b[0m     curr_variance \u001b[39m=\u001b[39m calculate_variance(dataset, assignments, centroids)\n",
      "File \u001b[0;32m~/Desktop/IndexOne/src/distance.py:22\u001b[0m, in \u001b[0;36mcompute_distance\u001b[0;34m(q, dataset, type)\u001b[0m\n\u001b[1;32m     20\u001b[0m     \u001b[39mreturn\u001b[39;00m dotprod_distance(q, dataset)\n\u001b[1;32m     21\u001b[0m \u001b[39melse\u001b[39;00m:\n\u001b[0;32m---> 22\u001b[0m     \u001b[39mraise\u001b[39;00m \u001b[39mNotImplementedError\u001b[39;00m(\u001b[39m\"\u001b[39m\u001b[39m{}\u001b[39;00m\u001b[39m method not implemented \u001b[39m\u001b[39m\"\u001b[39m\u001b[39m.\u001b[39mformat(\u001b[39mtype\u001b[39m))\n",
      "\u001b[0;31mNotImplementedError\u001b[0m: <function euclidean_distance at 0x7f9d6fb3b400> method not implemented "
     ]
    }
   ],
   "source": [
    "from distance import euclidean_distance\n",
    "\n",
    "\n",
    "dataset = torch.cat([kmeans.get_dataset(100, 2) + 3, kmeans.get_dataset(100, 2) + 1.5, kmeans.get_dataset(100, 2)])\n",
    "variance, centroids, assignments = kmeans.compute_kmeans(dataset, num_centroids=3, num_iterations=10, distance_type=\"euclidean\")"
   ]
  },
  {
   "cell_type": "code",
   "execution_count": null,
   "metadata": {},
   "outputs": [],
   "source": [
    "variance"
   ]
  },
  {
   "cell_type": "code",
   "execution_count": null,
   "metadata": {},
   "outputs": [],
   "source": [
    "def color_assign(x):\n",
    "    if x == 0:\n",
    "        return \"blue\"\n",
    "    elif x == 1:\n",
    "        return \"yellow\"\n",
    "    else:\n",
    "        return \"red\"\n",
    "\n",
    "x = dataset[:, 0].cpu().numpy()\n",
    "y = dataset[:, 1].cpu().numpy()\n",
    "c = list(map(color_assign, assignments.cpu().numpy()))\n",
    "\n",
    "plt.scatter(x, y, c=c)\n",
    "print(variance)"
   ]
  }
 ],
 "metadata": {
  "kernelspec": {
   "display_name": "Python 3.10.6 ('base')",
   "language": "python",
   "name": "python3"
  },
  "language_info": {
   "codemirror_mode": {
    "name": "ipython",
    "version": 3
   },
   "file_extension": ".py",
   "mimetype": "text/x-python",
   "name": "python",
   "nbconvert_exporter": "python",
   "pygments_lexer": "ipython3",
   "version": "3.10.6"
  },
  "orig_nbformat": 4,
  "vscode": {
   "interpreter": {
    "hash": "453964a5ac68fb582dfefe4de0852068f95014a09b6c6d36a18d5aa6f6ef77e5"
   }
  }
 },
 "nbformat": 4,
 "nbformat_minor": 2
}
