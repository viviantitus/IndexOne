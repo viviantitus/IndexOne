{
 "cells": [
  {
   "cell_type": "code",
   "execution_count": 1,
   "metadata": {},
   "outputs": [],
   "source": [
    "import torch\n",
    "import sys\n",
    "sys.path.insert(0, '..')\n",
    "\n",
    "import torch\n",
    "from profiler import profileit\n",
    "import argparse\n",
    "import kmeans\n",
    "import pq"
   ]
  },
  {
   "cell_type": "code",
   "execution_count": 2,
   "metadata": {},
   "outputs": [
    {
     "name": "stdout",
     "output_type": "stream",
     "text": [
      "         997885 function calls in 4.178 seconds\n",
      "\n",
      "   Ordered by: standard name\n",
      "\n",
      "   ncalls  tottime  percall  cumtime  percall filename:lineno(function)\n",
      "        1    0.000    0.000    4.178    4.178 2279744762.py:1(encode_with_pq)\n",
      "    52968    0.019    0.000    0.029    0.000 _VF.py:25(__getattr__)\n",
      "      960    0.001    0.000    0.009    0.000 _tensor.py:26(wrapped)\n",
      "      960    0.001    0.000    0.008    0.000 _tensor.py:637(__rsub__)\n",
      "     6621    0.005    0.000    0.901    0.000 distance.py:14(compute_distance)\n",
      "     6621    0.021    0.000    0.896    0.000 distance.py:7(euclidean_distance)\n",
      "     6621    0.308    0.000    0.839    0.000 distance.py:8(<listcomp>)\n",
      "    52968    0.148    0.000    0.483    0.000 functional.py:1345(norm)\n",
      "      960    0.009    0.000    0.051    0.000 kmeans.py:12(get_random_samples_from_dataset)\n",
      "      960    0.017    0.000    0.017    0.000 kmeans.py:18(<listcomp>)\n",
      "     5661    0.580    0.000    0.930    0.000 kmeans.py:21(reassign_centroids)\n",
      "     6621    1.176    0.000    2.013    0.000 kmeans.py:28(calculate_variance)\n",
      "       32    0.096    0.003    4.177    0.131 kmeans.py:37(compute_kmeans)\n",
      "        1    0.001    0.001    4.178    4.178 pq.py:11(train)\n",
      "       33    0.000    0.000    0.000    0.000 pq.py:7(split_to_subvecs)\n",
      "     7824    0.004    0.000    0.006    0.000 random.py:239(_randbelow_with_getrandbits)\n",
      "     7824    0.006    0.000    0.014    0.000 random.py:292(randrange)\n",
      "     7824    0.002    0.000    0.016    0.000 random.py:366(randint)\n",
      "    23472    0.001    0.000    0.001    0.000 {built-in method _operator.index}\n",
      "    52968    0.010    0.000    0.010    0.000 {built-in method builtins.getattr}\n",
      "    52968    0.005    0.000    0.005    0.000 {built-in method builtins.isinstance}\n",
      "     8784    0.001    0.000    0.001    0.000 {built-in method builtins.len}\n",
      "    52968    0.008    0.000    0.008    0.000 {built-in method torch._C._has_torch_function_unary}\n",
      "      960    0.000    0.000    0.000    0.000 {built-in method torch._C._has_torch_function}\n",
      "    52968    0.217    0.000    0.217    0.000 {built-in method torch._C._linalg.linalg_norm}\n",
      "     6621    0.177    0.000    0.177    0.000 {built-in method torch.argmin}\n",
      "    52968    0.285    0.000    0.285    0.000 {built-in method torch.frobenius_norm}\n",
      "    45288    0.308    0.000    0.308    0.000 {built-in method torch.mean}\n",
      "      960    0.007    0.000    0.007    0.000 {built-in method torch.rsub}\n",
      "    13242    0.072    0.000    0.072    0.000 {built-in method torch.stack}\n",
      "        2    0.000    0.000    0.000    0.000 {built-in method torch.zeros}\n",
      "    52968    0.006    0.000    0.006    0.000 {method 'append' of 'list' objects}\n",
      "     7824    0.001    0.000    0.001    0.000 {method 'bit_length' of 'int' objects}\n",
      "    52968    0.009    0.000    0.009    0.000 {method 'dim' of 'torch._C._TensorBase' objects}\n",
      "        1    0.000    0.000    0.000    0.000 {method 'disable' of '_lsprof.Profiler' objects}\n",
      "     9958    0.001    0.000    0.001    0.000 {method 'getrandbits' of '_random.Random' objects}\n",
      "   105936    0.485    0.000    0.485    0.000 {method 'repeat' of 'torch._C._TensorBase' objects}\n",
      "   132664    0.049    0.000    0.049    0.000 {method 'size' of 'torch._C._TensorBase' objects}\n",
      "        1    0.000    0.000    0.000    0.000 {method 'type' of 'torch._C._TensorBase' objects}\n",
      "   105936    0.142    0.000    0.142    0.000 {method 'unsqueeze' of 'torch._C._TensorBase' objects}\n",
      "\n",
      "\n"
     ]
    }
   ],
   "source": [
    "@profileit(enabled=True)\n",
    "def encode_with_pq(dataset):\n",
    "    return pq.train(dataset, num_chunks=32, num_centroids_per_chunk=8, chunk_dim=16)\n",
    "\n",
    "dataset = kmeans.get_dataset(200,512)\n",
    "codes, encoded_dataset = encode_with_pq(dataset)"
   ]
  },
  {
   "cell_type": "code",
   "execution_count": 3,
   "metadata": {},
   "outputs": [
    {
     "name": "stdout",
     "output_type": "stream",
     "text": [
      "         57639 function calls in 0.200 seconds\n",
      "\n",
      "   Ordered by: standard name\n",
      "\n",
      "   ncalls  tottime  percall  cumtime  percall filename:lineno(function)\n",
      "        1    0.050    0.050    0.200    0.200 pq.py:45(adc_pq)\n",
      "     6400    0.033    0.000    0.040    0.000 pq.py:48(fetch_subvec_dataset)\n",
      "     6400    0.033    0.000    0.087    0.000 pq.py:58(<listcomp>)\n",
      "       33    0.000    0.000    0.000    0.000 pq.py:7(split_to_subvecs)\n",
      "     6400    0.020    0.000    0.020    0.000 {built-in method torch._C._linalg.linalg_norm}\n",
      "     6400    0.020    0.000    0.020    0.000 {built-in method torch.stack}\n",
      "        1    0.000    0.000    0.000    0.000 {built-in method torch.sum}\n",
      "        1    0.000    0.000    0.000    0.000 {built-in method torch.zeros}\n",
      "        1    0.000    0.000    0.000    0.000 {method 'disable' of '_lsprof.Profiler' objects}\n",
      "     6400    0.026    0.000    0.026    0.000 {method 'repeat' of 'torch._C._TensorBase' objects}\n",
      "    12802    0.004    0.000    0.004    0.000 {method 'size' of 'torch._C._TensorBase' objects}\n",
      "    12800    0.014    0.000    0.014    0.000 {method 'unsqueeze' of 'torch._C._TensorBase' objects}\n",
      "\n",
      "\n",
      "tensor([[ 45, 142,  86,  13, 144]])\n"
     ]
    }
   ],
   "source": [
    "query = torch.stack([dataset[45, :]])\n",
    "distances = pq.adc_pq(query, encoded_dataset, codes, 32, 16)\n",
    "print(torch.topk(distances, k=5, largest=False, dim=1).indices)"
   ]
  }
 ],
 "metadata": {
  "kernelspec": {
   "display_name": "Python 3.10.6 ('base')",
   "language": "python",
   "name": "python3"
  },
  "language_info": {
   "codemirror_mode": {
    "name": "ipython",
    "version": 3
   },
   "file_extension": ".py",
   "mimetype": "text/x-python",
   "name": "python",
   "nbconvert_exporter": "python",
   "pygments_lexer": "ipython3",
   "version": "3.10.6"
  },
  "orig_nbformat": 4,
  "vscode": {
   "interpreter": {
    "hash": "453964a5ac68fb582dfefe4de0852068f95014a09b6c6d36a18d5aa6f6ef77e5"
   }
  }
 },
 "nbformat": 4,
 "nbformat_minor": 2
}
